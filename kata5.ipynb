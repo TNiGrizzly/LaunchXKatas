{
 "cells": [
  {
   "cell_type": "markdown",
   "metadata": {},
   "source": [
    "# Calculamos la distancia entre planetas\n",
    "La distancia en la Tierra y Jupiter"
   ]
  },
  {
   "cell_type": "code",
   "execution_count": null,
   "metadata": {},
   "outputs": [],
   "source": [
    "first_planet = 149597870\n",
    "second_planet = 778547200\n",
    "informacion = 'La distancia en Km entre el planeta Tierra y Jupiter es: '\n",
    "informacionM = 'La distancia en Millas entre el planeta Tierra y Jupiter es: '\n",
    "distance_km = second_planet - first_planet\n",
    "print(informacion, distance_km)\n",
    "\n",
    "distance_mi = distance_km * 0.621\n",
    "print(informacionM, distance_mi)"
   ]
  },
  {
   "cell_type": "markdown",
   "metadata": {},
   "source": [
    "# Calcular distancia entre planetas con datos de entrada en consola\n",
    "Convertimos cadenas a enteros"
   ]
  },
  {
   "cell_type": "code",
   "execution_count": 6,
   "metadata": {},
   "outputs": [
    {
     "name": "stdout",
     "output_type": "stream",
     "text": [
      "La distancia en Km entre los planetas es:  10000\n",
      "La distancia en Millas entre los planetas es:  6210.0\n"
     ]
    }
   ],
   "source": [
    "first_planet = input('Introduzca la distancia del sol para el primer planeta en KM')\n",
    "second_planet = input('Introduzca la distancia desde el sol para el segundo planeta en KM')\n",
    "\n",
    "first_planet = int(first_planet)\n",
    "second_planet = int(second_planet)\n",
    "\n",
    "informacion = 'La distancia en Km entre los planetas es: '\n",
    "\n",
    "distance_km = second_planet - first_planet\n",
    "print(informacion, distance_km)\n",
    "\n",
    "informacion = 'La distancia en Millas entre los planetas es: '\n",
    "\n",
    "distance_mi = distance_km * 0.621\n",
    "print(informacion, abs(distance_mi))"
   ]
  }
 ],
 "metadata": {
  "interpreter": {
   "hash": "ff93e9eca1c7b083efa6293baf668e051bc62d9c57108b35f1257c109d558b79"
  },
  "kernelspec": {
   "display_name": "Python 3.10.2 64-bit",
   "language": "python",
   "name": "python3"
  },
  "language_info": {
   "codemirror_mode": {
    "name": "ipython",
    "version": 3
   },
   "file_extension": ".py",
   "mimetype": "text/x-python",
   "name": "python",
   "nbconvert_exporter": "python",
   "pygments_lexer": "ipython3",
   "version": "3.10.2"
  },
  "orig_nbformat": 4
 },
 "nbformat": 4,
 "nbformat_minor": 2
}
