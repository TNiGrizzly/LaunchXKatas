{
 "cells": [
  {
   "cell_type": "markdown",
   "metadata": {},
   "source": [
    "# Funciones \n",
    "    Lee 3 tanques de combustible y muestra el promedio\n",
    "    "
   ]
  },
  {
   "cell_type": "code",
   "execution_count": null,
   "metadata": {},
   "outputs": [],
   "source": [
    "\n",
    "def tanques(tanque1, tanque2, tanque3):\n",
    "    total_average = (tanque1 + tanque2 + tanque3) / 3\n",
    "    return f\"\"\"Reporte:\n",
    "    Promedio: {total_average}%\n",
    "    Main tank: {tanque1}%\n",
    "    External tank: {tanque2}%\n",
    "    Hydrogen tank: {tanque3}% \n",
    "    \"\"\"\n",
    "print(tanques(50, 70, 90))\n",
    "\n"
   ]
  },
  {
   "cell_type": "markdown",
   "metadata": {},
   "source": [
    "# Funcion promedio \n",
    "    Se agrega la funcion promedio y se actualiza la funcion de \"tanques\" para el calculo del promedio"
   ]
  },
  {
   "cell_type": "code",
   "execution_count": null,
   "metadata": {},
   "outputs": [],
   "source": [
    "def promedio(values):\n",
    "    total = sum(values)\n",
    "    number_of_items = len(values)\n",
    "    prom = total/number_of_items\n",
    "    return prom\n",
    "\n",
    "\n",
    "print('Prueba funcion Prommedio: ', promedio((80, 85, 81)))\n",
    "\n",
    "def tanques(main_tank, external_tank, hydrogen_tank):\n",
    "    return f\"\"\"Reporte:\n",
    "    Promedio: {promedio((main_tank, external_tank, hydrogen_tank))}%\n",
    "    Main tank: {main_tank}%\n",
    "    External tank: {external_tank}%\n",
    "    Hydrogen tank: {hydrogen_tank}% \n",
    "    \"\"\"\n",
    "\n",
    "print(tanques(88, 76, 70))"
   ]
  },
  {
   "cell_type": "markdown",
   "metadata": {},
   "source": [
    "# Funcion para el reporte a una mision "
   ]
  },
  {
   "cell_type": "code",
   "execution_count": 17,
   "metadata": {},
   "outputs": [
    {
     "name": "stdout",
     "output_type": "stream",
     "text": [
      "\n",
      "    Misión hacia: Moon\n",
      "    Total travel time: 65 min\n",
      "    Total fuel left: 500000 gallons\n",
      "    \n"
     ]
    }
   ],
   "source": [
    "\n",
    "def reportandoMision(horaDesplazamiento, tiempoVuelo, destino, tanqueExterno, tanqueInterno):\n",
    "    return f\"\"\"\n",
    "    Misión hacia: {destino}\n",
    "    Tiempo del viaje: {horaDesplazamiento + tiempoVuelo} min\n",
    "    Total fuel left: {tanqueExterno + tanqueInterno} gallons\n",
    "    \"\"\"\n",
    "\n",
    "print(reportandoMision(14, 51, \"Moon\", 200000, 300000))"
   ]
  },
  {
   "cell_type": "markdown",
   "metadata": {},
   "source": [
    "# Funciones que recibe multiples parametros posicionales y multiples parametros con nombres al mismo tiempo\n",
    "    La funcion sum() ->:\n",
    "        Recibe los parametros posicionales y suma los valores\n",
    "        Recibe los parametros con nombres y suma los valores que contienen"
   ]
  },
  {
   "cell_type": "code",
   "execution_count": 18,
   "metadata": {},
   "outputs": [
    {
     "name": "stdout",
     "output_type": "stream",
     "text": [
      "\n",
      "    Misión hacia: Moon\n",
      "    Total travel time: 76 min\n",
      "    Total fuel left: 500000\n",
      "    \n"
     ]
    }
   ],
   "source": [
    "def reportandoMision(destino, *min, **tanques):\n",
    "    return f\"\"\"\n",
    "    Misión hacia: {destino}\n",
    "    Tiempo del viaje: {sum(min)} min\n",
    "    Total fuel left: {sum(tanques.values())}\n",
    "    \"\"\"\n",
    "\n",
    "print(reportandoMision(\"Moon\", 10, 15, 51, interno=300000, externo=200000))"
   ]
  },
  {
   "cell_type": "markdown",
   "metadata": {},
   "source": [
    "# Funcion mas especifica de la mision \n",
    "    Con la estructura de control \"for\" iteramos los parametros con nombres\n",
    "        Obtenemos el nombre especifico y la cantidad de gallons utilizados "
   ]
  },
  {
   "cell_type": "code",
   "execution_count": 23,
   "metadata": {},
   "outputs": [
    {
     "name": "stdout",
     "output_type": "stream",
     "text": [
      "\n",
      "    Misión hacia: Moon\n",
      "    Tiempo del viaje: 74 min\n",
      "    Total fuel left: 500000\n",
      "    interno tanque --> 300000 gallons left\n",
      "externo tanque --> 200000 gallons left\n",
      "\n"
     ]
    }
   ],
   "source": [
    "def reportandoMision(destino, *min, **tanques):\n",
    "    reporteMision = f\"\"\"\n",
    "    Misión hacia: {destino}\n",
    "    Tiempo del viaje: {sum(min)} min\n",
    "    Total fuel left: {sum(tanques.values())}\n",
    "    \"\"\"\n",
    "    \n",
    "    return datosTanques(reporteMision, **tanques)\n",
    "\n",
    "def datosTanques(reporteMision, **tanques):\n",
    "    for nombreTanque, gallons in tanques.items():\n",
    "        reporteMision += f\"{nombreTanque} tanque --> {gallons} gallons left\\n\"\n",
    "    return reporteMision\n",
    "\n",
    "print(reportandoMision(\"Moon\", 8, 11, 55, interno=300000, externo=200000))"
   ]
  }
 ],
 "metadata": {
  "interpreter": {
   "hash": "ff93e9eca1c7b083efa6293baf668e051bc62d9c57108b35f1257c109d558b79"
  },
  "kernelspec": {
   "display_name": "Python 3.10.2 64-bit",
   "language": "python",
   "name": "python3"
  },
  "language_info": {
   "codemirror_mode": {
    "name": "ipython",
    "version": 3
   },
   "file_extension": ".py",
   "mimetype": "text/x-python",
   "name": "python",
   "nbconvert_exporter": "python",
   "pygments_lexer": "ipython3",
   "version": "3.10.2"
  },
  "orig_nbformat": 4
 },
 "nbformat": 4,
 "nbformat_minor": 2
}
