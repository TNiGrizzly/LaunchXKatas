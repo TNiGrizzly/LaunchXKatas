{
 "cells": [
  {
   "cell_type": "markdown",
   "metadata": {},
   "source": [
    "# Control de excepciones para archivos\n",
    "    No se encontro la el archivo\n",
    "    No tiene los permisos necesarios para leer el archivo"
   ]
  },
  {
   "cell_type": "code",
   "execution_count": 3,
   "metadata": {},
   "outputs": [
    {
     "name": "stdout",
     "output_type": "stream",
     "text": [
      "Couldn't find the config.txt file!\n"
     ]
    }
   ],
   "source": [
    "def main():\n",
    "    try:\n",
    "        configuration = open('config.txt')\n",
    "    except FileNotFoundError:\n",
    "        print(\"No se encontro la el archivo: config.txt\")\n",
    "    except IsADirectoryError:\n",
    "        print(\"No tiene los permisos necesarios para leer el archivo: config.txt\")\n",
    "\n",
    "main()"
   ]
  },
  {
   "cell_type": "code",
   "execution_count": 6,
   "metadata": {},
   "outputs": [
    {
     "name": "stdout",
     "output_type": "stream",
     "text": [
      "Couldn't find the config.txt file!\n"
     ]
    }
   ],
   "source": [
    "try:\n",
    "     open(\"config.txt\")\n",
    "except OSError as err:\n",
    "     if err.errno == 2:\n",
    "         print(\"No se encontro la el archivo: config.txt\")\n",
    "     elif err.errno == 13:\n",
    "         print(\"Se encontro el archivo config.txt pero no se puede leer\")"
   ]
  },
  {
   "cell_type": "markdown",
   "metadata": {},
   "source": [
    "# Programa que determina si el agua que se consume en la mision espacial es suficiente"
   ]
  },
  {
   "cell_type": "code",
   "execution_count": 9,
   "metadata": {},
   "outputs": [
    {
     "name": "stdout",
     "output_type": "stream",
     "text": [
      "Total de agua depués de: 2 días es: -10 litros\n"
     ]
    }
   ],
   "source": [
    "def aguaRestante(astronauts, aguaRestante, diasRestantes):\n",
    "    litrosDiarios = astronauts * 11\n",
    "    totalLitros = litrosDiarios * diasRestantes\n",
    "    totalAguaRestante = aguaRestante - totalLitros\n",
    "    return f\"Total de agua depués de: {diasRestantes} días es: {totalAguaRestante} litros\"\n",
    "\n",
    "print(aguaRestante(5, 100, 2))"
   ]
  },
  {
   "cell_type": "markdown",
   "metadata": {},
   "source": [
    "Para este caso informamos mediante una excepcion que no hay sufiente agua en los filtros\n",
    "    Debido a que la excepcion se ejecuto, no imprime los mensajes correspondientes.\n",
    "        Ya que es un error que los filtros no tengan agua"
   ]
  },
  {
   "cell_type": "code",
   "execution_count": null,
   "metadata": {},
   "outputs": [],
   "source": [
    "def aguaRestante(astronauts, aguaRestante, diasRestantes):\n",
    "    litrosDiarios = astronauts * 11\n",
    "    totalLitros = litrosDiarios * diasRestantes\n",
    "    totalAguaRestante = aguaRestante - totalLitros\n",
    "    if totalAguaRestante < 0:\n",
    "        raise RuntimeError(f\"No hay suficiente agua para los {astronauts} astronautas después de {diasRestantes} días!\")\n",
    "    return f\"Total de agua depués de: {diasRestantes} días es: {totalAguaRestante} litros\"\n",
    "\n",
    "aguaRestante(5, 100, 2)   "
   ]
  },
  {
   "cell_type": "markdown",
   "metadata": {},
   "source": [
    "Generamos la alerta de RuntimeError controlando en un bloque try: except"
   ]
  },
  {
   "cell_type": "code",
   "execution_count": 11,
   "metadata": {},
   "outputs": [
    {
     "name": "stdout",
     "output_type": "stream",
     "text": [
      "No hay suficiente agua para los 7 astronautas después de 4 días!\n"
     ]
    }
   ],
   "source": [
    "def aguaRestante(astronauts, aguaRestante, diasRestantes):\n",
    "    litrosDiarios = astronauts * 11\n",
    "    totalLitros = litrosDiarios * diasRestantes\n",
    "    totalAguaRestante = aguaRestante - totalLitros\n",
    "    if totalAguaRestante < 0:\n",
    "        raise RuntimeError(f\"No hay suficiente agua para los {astronauts} astronautas después de {diasRestantes} días!\")\n",
    "    return f\"Total de agua depués de: {diasRestantes} días es: {totalAguaRestante} litros\"\n",
    "\n",
    "try:\n",
    "    print(aguaRestante(7, 200, 4))    \n",
    "except RuntimeError as err:\n",
    "    print(err)"
   ]
  },
  {
   "cell_type": "markdown",
   "metadata": {},
   "source": [
    "Ahora controlamos el paso de tipos no admitidos en los parametros (\"TypeError\")\n",
    "Uso de la estructura de control \"for\"\n",
    "    Compara todos los parametros pasados en la funcion\n",
    "        Para saber si son de tipo int\n",
    "    \n"
   ]
  },
  {
   "cell_type": "code",
   "execution_count": 25,
   "metadata": {},
   "outputs": [
    {
     "name": "stdout",
     "output_type": "stream",
     "text": [
      "El valor es valido Argument:  7\n",
      "El valor es valido Argument:  400\n",
      "unsupported operand type(s) for /: 'str' and 'int'\n"
     ]
    },
    {
     "ename": "TypeError",
     "evalue": "Todo los parametros son de tipo int, pero se recibio este valor: 'a'",
     "output_type": "error",
     "traceback": [
      "\u001b[1;31m---------------------------------------------------------------------------\u001b[0m",
      "\u001b[1;31mTypeError\u001b[0m                                 Traceback (most recent call last)",
      "\u001b[1;32mc:\\Users\\luisa\\OneDrive\\Documentos\\LAZM\\Certificaciones\\LaunchX-FrontBackEnd\\katas\\kata10.ipynb Cell 11'\u001b[0m in \u001b[0;36maguaRestante\u001b[1;34m(astronauts, aguaRestante, diasRestantes)\u001b[0m\n\u001b[0;32m      <a href='vscode-notebook-cell:/c%3A/Users/luisa/OneDrive/Documentos/LAZM/Certificaciones/LaunchX-FrontBackEnd/katas/kata10.ipynb#ch0000010?line=2'>3</a>\u001b[0m \u001b[39mtry\u001b[39;00m:\n\u001b[1;32m----> <a href='vscode-notebook-cell:/c%3A/Users/luisa/OneDrive/Documentos/LAZM/Certificaciones/LaunchX-FrontBackEnd/katas/kata10.ipynb#ch0000010?line=3'>4</a>\u001b[0m     argument \u001b[39m/\u001b[39;49m \u001b[39m10\u001b[39;49m\n\u001b[0;32m      <a href='vscode-notebook-cell:/c%3A/Users/luisa/OneDrive/Documentos/LAZM/Certificaciones/LaunchX-FrontBackEnd/katas/kata10.ipynb#ch0000010?line=4'>5</a>\u001b[0m     \u001b[39mprint\u001b[39m(\u001b[39m'\u001b[39m\u001b[39mEl valor es valido Argument: \u001b[39m\u001b[39m'\u001b[39m, argument)\n",
      "\u001b[1;31mTypeError\u001b[0m: unsupported operand type(s) for /: 'str' and 'int'",
      "\nDuring handling of the above exception, another exception occurred:\n",
      "\u001b[1;31mTypeError\u001b[0m                                 Traceback (most recent call last)",
      "\u001b[1;32mc:\\Users\\luisa\\OneDrive\\Documentos\\LAZM\\Certificaciones\\LaunchX-FrontBackEnd\\katas\\kata10.ipynb Cell 11'\u001b[0m in \u001b[0;36m<module>\u001b[1;34m\u001b[0m\n\u001b[0;32m     <a href='vscode-notebook-cell:/c%3A/Users/luisa/OneDrive/Documentos/LAZM/Certificaciones/LaunchX-FrontBackEnd/katas/kata10.ipynb#ch0000010?line=13'>14</a>\u001b[0m     \u001b[39mreturn\u001b[39;00m \u001b[39mf\u001b[39m\u001b[39m\"\u001b[39m\u001b[39mTotal de agua depués de: \u001b[39m\u001b[39m{\u001b[39;00mdiasRestantes\u001b[39m}\u001b[39;00m\u001b[39m días es: \u001b[39m\u001b[39m{\u001b[39;00mtotalAguaRestante\u001b[39m}\u001b[39;00m\u001b[39m litros\u001b[39m\u001b[39m\"\u001b[39m\n\u001b[0;32m     <a href='vscode-notebook-cell:/c%3A/Users/luisa/OneDrive/Documentos/LAZM/Certificaciones/LaunchX-FrontBackEnd/katas/kata10.ipynb#ch0000010?line=15'>16</a>\u001b[0m \u001b[39mtry\u001b[39;00m:\n\u001b[1;32m---> <a href='vscode-notebook-cell:/c%3A/Users/luisa/OneDrive/Documentos/LAZM/Certificaciones/LaunchX-FrontBackEnd/katas/kata10.ipynb#ch0000010?line=16'>17</a>\u001b[0m     \u001b[39mprint\u001b[39m(aguaRestante(\u001b[39m7\u001b[39;49m, \u001b[39m400\u001b[39;49m, \u001b[39m\"\u001b[39;49m\u001b[39ma\u001b[39;49m\u001b[39m\"\u001b[39;49m)) \n\u001b[0;32m     <a href='vscode-notebook-cell:/c%3A/Users/luisa/OneDrive/Documentos/LAZM/Certificaciones/LaunchX-FrontBackEnd/katas/kata10.ipynb#ch0000010?line=17'>18</a>\u001b[0m \u001b[39mexcept\u001b[39;00m \u001b[39mRuntimeError\u001b[39;00m \u001b[39mas\u001b[39;00m err:\n\u001b[0;32m     <a href='vscode-notebook-cell:/c%3A/Users/luisa/OneDrive/Documentos/LAZM/Certificaciones/LaunchX-FrontBackEnd/katas/kata10.ipynb#ch0000010?line=18'>19</a>\u001b[0m     \u001b[39mprint\u001b[39m(err)\n",
      "\u001b[1;32mc:\\Users\\luisa\\OneDrive\\Documentos\\LAZM\\Certificaciones\\LaunchX-FrontBackEnd\\katas\\kata10.ipynb Cell 11'\u001b[0m in \u001b[0;36maguaRestante\u001b[1;34m(astronauts, aguaRestante, diasRestantes)\u001b[0m\n\u001b[0;32m      <a href='vscode-notebook-cell:/c%3A/Users/luisa/OneDrive/Documentos/LAZM/Certificaciones/LaunchX-FrontBackEnd/katas/kata10.ipynb#ch0000010?line=5'>6</a>\u001b[0m     \u001b[39mexcept\u001b[39;00m \u001b[39mTypeError\u001b[39;00m \u001b[39mas\u001b[39;00m err:\n\u001b[0;32m      <a href='vscode-notebook-cell:/c%3A/Users/luisa/OneDrive/Documentos/LAZM/Certificaciones/LaunchX-FrontBackEnd/katas/kata10.ipynb#ch0000010?line=6'>7</a>\u001b[0m         \u001b[39mprint\u001b[39m(err)\n\u001b[1;32m----> <a href='vscode-notebook-cell:/c%3A/Users/luisa/OneDrive/Documentos/LAZM/Certificaciones/LaunchX-FrontBackEnd/katas/kata10.ipynb#ch0000010?line=7'>8</a>\u001b[0m         \u001b[39mraise\u001b[39;00m \u001b[39mTypeError\u001b[39;00m(\u001b[39mf\u001b[39m\u001b[39m\"\u001b[39m\u001b[39mTodo los parametros son de tipo int, pero se recibio este valor: \u001b[39m\u001b[39m'\u001b[39m\u001b[39m{\u001b[39;00margument\u001b[39m}\u001b[39;00m\u001b[39m'\u001b[39m\u001b[39m\"\u001b[39m)\n\u001b[0;32m      <a href='vscode-notebook-cell:/c%3A/Users/luisa/OneDrive/Documentos/LAZM/Certificaciones/LaunchX-FrontBackEnd/katas/kata10.ipynb#ch0000010?line=8'>9</a>\u001b[0m litrosDiarios \u001b[39m=\u001b[39m astronauts \u001b[39m*\u001b[39m \u001b[39m11\u001b[39m\n\u001b[0;32m     <a href='vscode-notebook-cell:/c%3A/Users/luisa/OneDrive/Documentos/LAZM/Certificaciones/LaunchX-FrontBackEnd/katas/kata10.ipynb#ch0000010?line=9'>10</a>\u001b[0m totalLitros \u001b[39m=\u001b[39m litrosDiarios \u001b[39m*\u001b[39m diasRestantes\n",
      "\u001b[1;31mTypeError\u001b[0m: Todo los parametros son de tipo int, pero se recibio este valor: 'a'"
     ]
    }
   ],
   "source": [
    "def aguaRestante(astronauts, aguaRestante, diasRestantes):\n",
    "    for argument in [astronauts, aguaRestante, diasRestantes]:\n",
    "        try:\n",
    "            argument / 10\n",
    "            print('El valor es valido Argument: ', argument)\n",
    "        except TypeError as err:\n",
    "            print(err)\n",
    "            raise TypeError(f\"Todo los parametros son de tipo int, pero se recibio este valor: '{argument}'\")\n",
    "    litrosDiarios = astronauts * 11\n",
    "    totalLitros = litrosDiarios * diasRestantes\n",
    "    totalAguaRestante = aguaRestante - totalLitros\n",
    "    if totalAguaRestante < 0:\n",
    "        raise RuntimeError(f\"No hay suficiente agua para los {astronauts} astronauts después de {diasRestantes} días!\")\n",
    "    return f\"Total de agua depués de: {diasRestantes} días es: {totalAguaRestante} litros\"\n",
    "\n",
    "try:\n",
    "    print(aguaRestante(7, 400, \"a\")) \n",
    "except RuntimeError as err:\n",
    "    print(err)"
   ]
  }
 ],
 "metadata": {
  "interpreter": {
   "hash": "ff93e9eca1c7b083efa6293baf668e051bc62d9c57108b35f1257c109d558b79"
  },
  "kernelspec": {
   "display_name": "Python 3.10.2 64-bit",
   "language": "python",
   "name": "python3"
  },
  "language_info": {
   "codemirror_mode": {
    "name": "ipython",
    "version": 3
   },
   "file_extension": ".py",
   "mimetype": "text/x-python",
   "name": "python",
   "nbconvert_exporter": "python",
   "pygments_lexer": "ipython3",
   "version": "3.10.2"
  },
  "orig_nbformat": 4
 },
 "nbformat": 4,
 "nbformat_minor": 2
}
