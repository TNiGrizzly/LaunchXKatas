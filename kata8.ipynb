{
 "cells": [
  {
   "cell_type": "markdown",
   "metadata": {},
   "source": [
    "# Lunas en los planetas\n",
    "Creamos un diccionadrio dentro de otro diccionario\n",
    "    planet = {\n",
    "        'name': \"Tierra\",\n",
    "        'moons': 1,\n",
    "        circunferencia km: {\n",
    "            'polar': xxx\n",
    "        }\n",
    "    }"
   ]
  },
  {
   "cell_type": "code",
   "execution_count": 7,
   "metadata": {},
   "outputs": [
    {
     "name": "stdout",
     "output_type": "stream",
     "text": [
      "Mars\n",
      "Mars tiene 2 lunas\n",
      "Mars tiene una circunferencia polar de: 6752\n"
     ]
    }
   ],
   "source": [
    "planet = {\n",
    "    'name': 'Mars',\n",
    "    'moons': 2\n",
    "}\n",
    "print(planet.get('name'))\n",
    "\n",
    "print(f'{planet[\"name\"]} tiene {planet[\"moons\"]} lunas')\n",
    "\n",
    "planet ['circunferencia km'] = {\n",
    "    'polar': 6752,\n",
    "    'equatorial': 6792\n",
    "}\n",
    "\n",
    "print(f'{planet[\"name\"]} tiene una circunferencia polar de: {planet[\"circunferencia km\"][\"polar\"]}')"
   ]
  },
  {
   "cell_type": "markdown",
   "metadata": {},
   "source": [
    "# Lunas en el sistema solar\n",
    "    Número promedio de lunas que tiene un planeta\n",
    "    values()-> Guardamos los volores del diccionario\n",
    "    len()-> Calculo de datos en el diccionario en este caso el total de llaves en el diccionario\n",
    "    keys()-> Obtenemos las claves en el diccionario"
   ]
  },
  {
   "cell_type": "code",
   "execution_count": 10,
   "metadata": {},
   "outputs": [
    {
     "name": "stdout",
     "output_type": "stream",
     "text": [
      "Total de planetas en el sistema solar (contando planetas enanos): 12\n",
      "Total de claves en el diccionario: 12\n",
      "Total de lunas en el sistema solar: 214\n",
      "Promedio: 17.833333333333332\n"
     ]
    }
   ],
   "source": [
    "planet_moons = {\n",
    "    'mercury': 0,\n",
    "    'venus': 0,\n",
    "    'earth': 1,\n",
    "    'mars': 2,\n",
    "    'jupiter': 79,\n",
    "    'saturn': 82,\n",
    "    'uranus': 27,\n",
    "    'neptune': 14,\n",
    "    'pluto': 5,\n",
    "    'haumea': 2,\n",
    "    'makemake': 1,\n",
    "    'eris': 1\n",
    "}\n",
    "\n",
    "moons = planet_moons.values()\n",
    "\n",
    "planets = len(planet_moons.keys())\n",
    "\n",
    "print(f'Total de planetas en el sistema solar (contando planetas enanos): {planets}')\n",
    "print(f'Total de claves en el diccionario: {planets}')\n",
    "\n",
    "total_moons = 0\n",
    "for moon in moons:\n",
    "    total_moons = total_moons + moon\n",
    "\n",
    "print(f'Total de lunas en el sistema solar: {total_moons}')\n",
    "\n",
    "prom = total_moons / planets\n",
    "\n",
    "print(f'Promedio: {prom}')"
   ]
  }
 ],
 "metadata": {
  "interpreter": {
   "hash": "ff93e9eca1c7b083efa6293baf668e051bc62d9c57108b35f1257c109d558b79"
  },
  "kernelspec": {
   "display_name": "Python 3.10.2 64-bit",
   "language": "python",
   "name": "python3"
  },
  "language_info": {
   "codemirror_mode": {
    "name": "ipython",
    "version": 3
   },
   "file_extension": ".py",
   "mimetype": "text/x-python",
   "name": "python",
   "nbconvert_exporter": "python",
   "pygments_lexer": "ipython3",
   "version": "3.10.2"
  },
  "orig_nbformat": 4
 },
 "nbformat": 4,
 "nbformat_minor": 2
}
